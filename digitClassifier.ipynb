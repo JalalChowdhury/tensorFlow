{
 "cells": [
  {
   "cell_type": "markdown",
   "id": "d5c332c6",
   "metadata": {},
   "source": [
    "# \"এমনিস্ট\" হাতে লেখা ডিজিট চিনতে মডেল ট্রেনিং"
   ]
  },
  {
   "cell_type": "code",
   "execution_count": 1,
   "id": "3a793253",
   "metadata": {},
   "outputs": [
    {
     "name": "stdout",
     "output_type": "stream",
     "text": [
      "2.9.2\n"
     ]
    }
   ],
   "source": [
    "try:\n",
    "  # %tensorflow_version only exists in Colab.\n",
    "  %tensorflow_version 2.x\n",
    "except Exception:\n",
    "  pass\n",
    "\n",
    "from __future__ import absolute_import, division, print_function, unicode_literals\n",
    "\n",
    "# টেন্সরফ্লো ২.x এবং tf.keras\n",
    "import tensorflow as tf\n",
    "from tensorflow import keras\n",
    "\n",
    "# সাহায্যকারী লাইব্রেরি\n",
    "import numpy as np\n",
    "import matplotlib.pyplot as plt\n",
    "import random\n",
    "\n",
    "print(tf.__version__)"
   ]
  },
  {
   "cell_type": "markdown",
   "id": "148f74eb",
   "metadata": {},
   "source": [
    "### ডাউনলোড করি \"এমনিস্ট\" ডেটাসেট"
   ]
  },
  {
   "cell_type": "code",
   "execution_count": 2,
   "id": "870e595c",
   "metadata": {},
   "outputs": [
    {
     "name": "stdout",
     "output_type": "stream",
     "text": [
      "Downloading data from https://storage.googleapis.com/tensorflow/tf-keras-datasets/mnist.npz\n",
      "11490434/11490434 [==============================] - 6s 1us/step\n"
     ]
    }
   ],
   "source": [
    "mnist = keras.datasets.mnist\n",
    "(train_images, train_labels), (test_images, test_labels) = mnist.load_data()"
   ]
  },
  {
   "cell_type": "code",
   "execution_count": 3,
   "id": "fda4d239",
   "metadata": {},
   "outputs": [
    {
     "name": "stdout",
     "output_type": "stream",
     "text": [
      "Pixels are normalized\n"
     ]
    }
   ],
   "source": [
    "#normalize\n",
    "train_images = train_images / 255.0\n",
    "test_images = test_images / 255.0\n",
    "print('Pixels are normalized')"
   ]
  },
  {
   "cell_type": "markdown",
   "id": "e30584c5",
   "metadata": {},
   "source": [
    "### টেন্সরফ্লো মডেল তৈরি ডিজিট ক্লাসিফাই করার জন্য"
   ]
  },
  {
   "cell_type": "code",
   "execution_count": 4,
   "id": "ae8f7659",
   "metadata": {},
   "outputs": [
    {
     "name": "stdout",
     "output_type": "stream",
     "text": [
      "Epoch 1/5\n",
      "1875/1875 [==============================] - 5s 3ms/step - loss: 0.2631 - accuracy: 0.9281\n",
      "Epoch 2/5\n",
      "1875/1875 [==============================] - 5s 2ms/step - loss: 0.0971 - accuracy: 0.9722\n",
      "Epoch 3/5\n",
      "1875/1875 [==============================] - 5s 3ms/step - loss: 0.0748 - accuracy: 0.9787\n",
      "Epoch 4/5\n",
      "1875/1875 [==============================] - 5s 3ms/step - loss: 0.0625 - accuracy: 0.9811\n",
      "Epoch 5/5\n",
      "1875/1875 [==============================] - 5s 3ms/step - loss: 0.0554 - accuracy: 0.9837\n"
     ]
    },
    {
     "data": {
      "text/plain": [
       "<keras.callbacks.History at 0x22770a28f70>"
      ]
     },
     "execution_count": 4,
     "metadata": {},
     "output_type": "execute_result"
    }
   ],
   "source": [
    "# শুরুতে মডেল আর্কিটেকচার ডিফাইন করছি\n",
    "model = keras.Sequential([\n",
    "  keras.layers.InputLayer(input_shape=(28, 28)),\n",
    "  keras.layers.Reshape(target_shape=(28, 28, 1)),\n",
    "  keras.layers.Conv2D(filters=12, kernel_size=(3, 3), activation=tf.nn.relu),\n",
    "  keras.layers.MaxPooling2D(pool_size=(2, 2)),\n",
    "  keras.layers.Flatten(),\n",
    "  keras.layers.Dense(10, activation=tf.nn.softmax)\n",
    "])\n",
    "\n",
    "# মডেলকে ট্রেইন করতে হবে, তার আগে কম্পাইল\n",
    "model.compile(optimizer='adam',\n",
    "              loss='sparse_categorical_crossentropy',\n",
    "              metrics=['accuracy'])\n",
    "\n",
    "# ডিজিট ক্লাসিফিকেশন মডেল ট্রেনিং\n",
    "model.fit(train_images, train_labels, epochs=5)"
   ]
  },
  {
   "cell_type": "code",
   "execution_count": 5,
   "id": "846d7f61",
   "metadata": {},
   "outputs": [
    {
     "name": "stdout",
     "output_type": "stream",
     "text": [
      "Model: \"sequential\"\n",
      "_________________________________________________________________\n",
      " Layer (type)                Output Shape              Param #   \n",
      "=================================================================\n",
      " reshape (Reshape)           (None, 28, 28, 1)         0         \n",
      "                                                                 \n",
      " conv2d (Conv2D)             (None, 26, 26, 12)        120       \n",
      "                                                                 \n",
      " max_pooling2d (MaxPooling2D  (None, 13, 13, 12)       0         \n",
      " )                                                               \n",
      "                                                                 \n",
      " flatten (Flatten)           (None, 2028)              0         \n",
      "                                                                 \n",
      " dense (Dense)               (None, 10)                20290     \n",
      "                                                                 \n",
      "=================================================================\n",
      "Total params: 20,410\n",
      "Trainable params: 20,410\n",
      "Non-trainable params: 0\n",
      "_________________________________________________________________\n"
     ]
    }
   ],
   "source": [
    "model.summary()"
   ]
  },
  {
   "cell_type": "markdown",
   "id": "e13a52a1",
   "metadata": {},
   "source": [
    "## মডেলের ইভালুয়েশন"
   ]
  },
  {
   "cell_type": "code",
   "execution_count": 6,
   "id": "ec2b36e1",
   "metadata": {},
   "outputs": [
    {
     "name": "stdout",
     "output_type": "stream",
     "text": [
      "313/313 [==============================] - 0s 1ms/step - loss: 0.0637 - accuracy: 0.9798\n",
      "Test accuracy: 0.9797999858856201\n"
     ]
    }
   ],
   "source": [
    "test_loss, test_acc = model.evaluate(test_images, test_labels)\n",
    "\n",
    "print('Test accuracy:', test_acc)"
   ]
  },
  {
   "cell_type": "markdown",
   "id": "9ea8b3e7",
   "metadata": {},
   "source": [
    "### কেরাস মডেল থেকে টেন্সরফ্লো লাইটে কনভার্ট"
   ]
  },
  {
   "cell_type": "code",
   "execution_count": 7,
   "id": "ac41f0b2",
   "metadata": {},
   "outputs": [
    {
     "name": "stderr",
     "output_type": "stream",
     "text": [
      "WARNING:absl:Found untraced functions such as _jit_compiled_convolution_op while saving (showing 1 of 1). These functions will not be directly callable after loading.\n"
     ]
    },
    {
     "name": "stdout",
     "output_type": "stream",
     "text": [
      "INFO:tensorflow:Assets written to: C:\\Users\\user\\AppData\\Local\\Temp\\tmpz9yplxfh\\assets\n"
     ]
    },
    {
     "name": "stderr",
     "output_type": "stream",
     "text": [
      "INFO:tensorflow:Assets written to: C:\\Users\\user\\AppData\\Local\\Temp\\tmpz9yplxfh\\assets\n"
     ]
    },
    {
     "name": "stdout",
     "output_type": "stream",
     "text": [
      "Float model size = 82KBs.\n"
     ]
    }
   ],
   "source": [
    "# কনভার্টারের ব্যবহার\n",
    "converter = tf.lite.TFLiteConverter.from_keras_model(model)\n",
    "tflite_float_model = converter.convert()\n",
    "\n",
    "# মডেলের সাইজ কিলোবাইটে\n",
    "float_model_size = len(tflite_float_model) / 1024\n",
    "print('Float model size = %dKBs.' % float_model_size)"
   ]
  },
  {
   "cell_type": "markdown",
   "id": "38a9b8d0",
   "metadata": {},
   "source": [
    "### টেন্সরফ্লো লাইট মডেল ডাউনলোড"
   ]
  },
  {
   "cell_type": "code",
   "execution_count": null,
   "id": "ba0c13b1",
   "metadata": {},
   "outputs": [],
   "source": [
    "# ফাইলটাকে সেভ করে রাখি এখানে mnist.tflite হিসেবে\n",
    "f = open('mnist.tflite', \"wb\")\n",
    "f.write(tflite_float_model)\n",
    "f.close()\n",
    "\n",
    "# ডাউনলোড করি mnist.tflite হিসেবে\n",
    "from google.colab import files\n",
    "files.download('mnist.tflite')\n",
    "\n",
    "print('`mnist.tflite` has been downloaded')\n",
    "\n",
    "#terminos prb? \n",
    "# file use --> android app create\n",
    "# . . ."
   ]
  },
  {
   "cell_type": "code",
   "execution_count": null,
   "id": "3a63f40b",
   "metadata": {},
   "outputs": [],
   "source": []
  }
 ],
 "metadata": {
  "kernelspec": {
   "display_name": "Python 3",
   "language": "python",
   "name": "python3"
  },
  "language_info": {
   "codemirror_mode": {
    "name": "ipython",
    "version": 3
   },
   "file_extension": ".py",
   "mimetype": "text/x-python",
   "name": "python",
   "nbconvert_exporter": "python",
   "pygments_lexer": "ipython3",
   "version": "3.9.12"
  }
 },
 "nbformat": 4,
 "nbformat_minor": 5
}
