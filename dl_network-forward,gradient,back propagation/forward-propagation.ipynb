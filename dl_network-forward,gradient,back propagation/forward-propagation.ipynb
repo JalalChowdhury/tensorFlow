{
 "cells": [
  {
   "cell_type": "markdown",
   "id": "42ec0e33",
   "metadata": {},
   "source": [
    "Forward propagation"
   ]
  },
  {
   "cell_type": "code",
   "execution_count": 3,
   "id": "3b52b3ee",
   "metadata": {},
   "outputs": [
    {
     "name": "stdout",
     "output_type": "stream",
     "text": [
      "[5 1]\n",
      "9\n"
     ]
    }
   ],
   "source": [
    "import numpy as np\n",
    "\n",
    "# আমাদের প্রেডিকশন করার জন্য ডেটা পয়েন্ট, ছবির সাথে মিলিয়ে দেখুন\n",
    "input_data = np.array([2, 3])\n",
    "\n",
    "# আমাদের ডিকশনারী\n",
    "weights =   {'node_0': np.array([1, 1]),\n",
    "             'node_1': np.array([-1, 1]),\n",
    "             'output': np.array([2, -1])\n",
    "            }\n",
    "# node 0 এর ভ্যালু ক্যালকুলেট করি: node_0_value\n",
    "node_0_value = (input_data * weights['node_0']).sum()\n",
    "\n",
    "# node ১ এর ভ্যালু ক্যালকুলেট করি: node_1_value\n",
    "node_1_value = (input_data * weights['node_1']).sum()\n",
    "\n",
    "# নোডগুলোর ভ্য়ালুগুলোকে অ্যারেতে রাখি: hidden_layer_outputs\n",
    "hidden_layer_outputs = np.array([node_0_value, node_1_value])\n",
    "\n",
    "# আউটপুট ক্যালকুলেট করি: output\n",
    "output = (hidden_layer_outputs * weights['output']).sum()\n",
    "\n",
    "# আউটপুট প্রিন্ট করে দেখি\n",
    "print(hidden_layer_outputs)\n",
    "print(output)\n",
    "\n",
    "#but actual ans : 13"
   ]
  },
  {
   "cell_type": "code",
   "execution_count": null,
   "id": "be0cf4c3",
   "metadata": {},
   "outputs": [],
   "source": []
  }
 ],
 "metadata": {
  "kernelspec": {
   "display_name": "Python 3 (ipykernel)",
   "language": "python",
   "name": "python3"
  },
  "language_info": {
   "codemirror_mode": {
    "name": "ipython",
    "version": 3
   },
   "file_extension": ".py",
   "mimetype": "text/x-python",
   "name": "python",
   "nbconvert_exporter": "python",
   "pygments_lexer": "ipython3",
   "version": "3.9.12"
  }
 },
 "nbformat": 4,
 "nbformat_minor": 5
}
