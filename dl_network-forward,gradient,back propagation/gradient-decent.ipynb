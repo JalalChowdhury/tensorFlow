{
 "cells": [
  {
   "cell_type": "markdown",
   "id": "ba440670",
   "metadata": {},
   "source": [
    "Gradient decent"
   ]
  },
  {
   "cell_type": "code",
   "execution_count": 1,
   "id": "5ca3b65c",
   "metadata": {},
   "outputs": [
    {
     "name": "stdout",
     "output_type": "stream",
     "text": [
      "9\n",
      "3\n",
      "6\n",
      "0\n"
     ]
    }
   ],
   "source": [
    "import numpy as np\n",
    "\n",
    "# আমাদের প্রেডিকশন করার জন্য ডেটা পয়েন্ট, ছবির সাথে মিলিয়ে দেখুন\n",
    "input_data = np.array([0, 3])\n",
    "\n",
    "# স্যাম্পল ওয়েট যা পাল্টে দিয়েছি আমরা  \n",
    "weights_0 = {'node_0': [2, 1],\n",
    "             'node_1': [1, 2],\n",
    "             'output': [1, 1]\n",
    "            }\n",
    "\n",
    "# আসল টার্গেট ভ্যালু, এরর বের করার জন্য লাগবে \n",
    "target_actual = 3\n",
    "\n",
    "# দুটো মেথড ডিফাইন করি \n",
    "def relu(input):\n",
    "    output = max(0, input)\n",
    "    return output\n",
    "\n",
    "def predict_with_network(input_data_row, weights):\n",
    "    node_0_input = (input_data_row * weights['node_0']).sum()\n",
    "    # print(node_0_input)\n",
    "    node_0_output = relu(node_0_input)\n",
    "    # print(node_0_output)\n",
    "\n",
    "    node_1_input = (input_data_row * weights['node_1']).sum()\n",
    "    node_1_output = relu(node_1_input)\n",
    "    \n",
    "    hidden_layer_outputs = np.array([node_0_output, node_1_output])\n",
    "    \n",
    "    input_to_final_layer = (hidden_layer_outputs * weights['output']).sum()\n",
    "    model_output = relu(input_to_final_layer)\n",
    "    return model_output\n",
    "       \n",
    "\n",
    "# শুরুর ওয়েট দিয়ে প্রেডিকশন করি \n",
    "model_output_0 = predict_with_network(input_data, weights_0)\n",
    "\n",
    "# এরর ক্যালকুলেট করি: error_0\n",
    "error_0 = model_output_0 - target_actual\n",
    "\n",
    "# নতুন ওয়েট দেই যাতে টার্গেট প্রেডিকশন (3) ধরতে পারে: weights_1\n",
    "weights_1 = {'node_0': [2, 1],\n",
    "             'node_1': [1, 2],\n",
    "             'output': [1, 0]\n",
    "            }\n",
    "\n",
    "# নতুন ওয়েট দিয়ে প্রেডিকশন: model_output_1\n",
    "model_output_1 = predict_with_network(input_data, weights_1)\n",
    "\n",
    "# আবার এরর ক্যালকুলেট করি: error_1\n",
    "error_1 = model_output_1 - target_actual\n",
    "\n",
    "# সবকিছু প্রিন্ট করে দেখি \n",
    "\n",
    "print(model_output_0)\n",
    "print(model_output_1)\n",
    "print(error_0)\n",
    "print(error_1)"
   ]
  },
  {
   "cell_type": "code",
   "execution_count": null,
   "id": "adbb7ad6",
   "metadata": {},
   "outputs": [],
   "source": []
  }
 ],
 "metadata": {
  "kernelspec": {
   "display_name": "Python 3 (ipykernel)",
   "language": "python",
   "name": "python3"
  },
  "language_info": {
   "codemirror_mode": {
    "name": "ipython",
    "version": 3
   },
   "file_extension": ".py",
   "mimetype": "text/x-python",
   "name": "python",
   "nbconvert_exporter": "python",
   "pygments_lexer": "ipython3",
   "version": "3.9.12"
  }
 },
 "nbformat": 4,
 "nbformat_minor": 5
}
